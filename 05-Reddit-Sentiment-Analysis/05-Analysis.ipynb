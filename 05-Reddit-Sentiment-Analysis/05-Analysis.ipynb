{
 "cells": [
  {
   "cell_type": "markdown",
   "id": "3bb769e0",
   "metadata": {},
   "source": [
    "<a href = \"https://www.pieriantraining.com\"><img src=\"../PT Centered Purple.png\"> </a>\n",
    "\n",
    "<em style=\"text-align:center\">Copyrighted by Pierian Training</em>"
   ]
  },
  {
   "cell_type": "markdown",
   "id": "50ef79d9",
   "metadata": {},
   "source": [
    "## Reddit API:\n",
    "1. Go to https://www.reddit.com/prefs/apps\n",
    "2. Click \"create application\"\n",
    "3. Name: My Sentiment Example\n",
    "4. Choose script\n",
    "5. Leave *description* and *about url* blank\n",
    "6. Add http://www.example.com/unused/redirect/uri to *redirect uri*"
   ]
  },
  {
   "cell_type": "markdown",
   "id": "0c82159c",
   "metadata": {},
   "source": [
    "## Imports"
   ]
  },
  {
   "cell_type": "code",
   "execution_count": 1,
   "id": "461599a4",
   "metadata": {},
   "outputs": [
    {
     "name": "stdout",
     "output_type": "stream",
     "text": [
      "Collecting praw\n",
      "  Downloading praw-7.7.1-py3-none-any.whl (191 kB)\n",
      "\u001b[2K     \u001b[90m━━━━━━━━━━━━━━━━━━━━━━━━━━━━━━━━━━━━━\u001b[0m \u001b[32m191.0/191.0 kB\u001b[0m \u001b[31m755.7 kB/s\u001b[0m eta \u001b[36m0:00:00\u001b[0ma \u001b[36m0:00:01\u001b[0m\n",
      "\u001b[?25hCollecting prawcore<3,>=2.1 (from praw)\n",
      "  Downloading prawcore-2.3.0-py3-none-any.whl (16 kB)\n",
      "Collecting update-checker>=0.18 (from praw)\n",
      "  Downloading update_checker-0.18.0-py3-none-any.whl (7.0 kB)\n",
      "Requirement already satisfied: websocket-client>=0.54.0 in /Users/bola/anaconda3/lib/python3.11/site-packages (from praw) (0.58.0)\n",
      "Requirement already satisfied: requests<3.0,>=2.6.0 in /Users/bola/anaconda3/lib/python3.11/site-packages (from prawcore<3,>=2.1->praw) (2.29.0)\n",
      "Requirement already satisfied: six in /Users/bola/anaconda3/lib/python3.11/site-packages (from websocket-client>=0.54.0->praw) (1.16.0)\n",
      "Requirement already satisfied: charset-normalizer<4,>=2 in /Users/bola/anaconda3/lib/python3.11/site-packages (from requests<3.0,>=2.6.0->prawcore<3,>=2.1->praw) (2.0.4)\n",
      "Requirement already satisfied: idna<4,>=2.5 in /Users/bola/anaconda3/lib/python3.11/site-packages (from requests<3.0,>=2.6.0->prawcore<3,>=2.1->praw) (3.4)\n",
      "Requirement already satisfied: urllib3<1.27,>=1.21.1 in /Users/bola/anaconda3/lib/python3.11/site-packages (from requests<3.0,>=2.6.0->prawcore<3,>=2.1->praw) (1.26.16)\n",
      "Requirement already satisfied: certifi>=2017.4.17 in /Users/bola/anaconda3/lib/python3.11/site-packages (from requests<3.0,>=2.6.0->prawcore<3,>=2.1->praw) (2023.5.7)\n",
      "Installing collected packages: update-checker, prawcore, praw\n",
      "Successfully installed praw-7.7.1 prawcore-2.3.0 update-checker-0.18.0\n"
     ]
    }
   ],
   "source": [
    "# instlaa reddit api package\n",
    "#!pip install praw"
   ]
  },
  {
   "cell_type": "code",
   "execution_count": 2,
   "id": "3f8439a1",
   "metadata": {},
   "outputs": [],
   "source": [
    "import praw\n",
    "import openai\n",
    "import os"
   ]
  },
  {
   "cell_type": "code",
   "execution_count": 4,
   "id": "610f5e0b",
   "metadata": {},
   "outputs": [],
   "source": [
    "# os.environ[\"REDDIT_CLIENT_ID\"] = \"\"\n",
    "# os.environ[\"REDDIT_CLIENT_SECRET\"] = \"\"\n"
   ]
  },
  {
   "cell_type": "code",
   "execution_count": 6,
   "id": "14f71fa2",
   "metadata": {},
   "outputs": [],
   "source": [
    "reddit_client_id = os.getenv(\"REDDIT_CLIENT_ID\")\n",
    "reddit_client_secret = os.getenv(\"REDDIT_CLIENT_SECRET\")"
   ]
  },
  {
   "cell_type": "code",
   "execution_count": 7,
   "id": "99e65c62",
   "metadata": {},
   "outputs": [],
   "source": [
    "reddit = praw.Reddit(client_id=reddit_client_id, # the App ID retreived from the reddit application\n",
    "                     client_secret=reddit_client_secret, # the secret retreived from the reddit application\n",
    "                     user_agent=\"sentiment analysis test by u/Sdet-Devops\"  # add your reddit name\n",
    "                    )"
   ]
  },
  {
   "cell_type": "markdown",
   "id": "7a3cbf37",
   "metadata": {},
   "source": [
    "We can now already use our reddit instance to obtain public information from reddit!"
   ]
  },
  {
   "cell_type": "code",
   "execution_count": 8,
   "id": "239d2340",
   "metadata": {},
   "outputs": [
    {
     "name": "stdout",
     "output_type": "stream",
     "text": [
      "test\n",
      "app\n",
      "test\n",
      "post1\n",
      "post1\n",
      "post3\n",
      "post2\n",
      "post1\n",
      "Test Image Upload\n",
      "test\n"
     ]
    }
   ],
   "source": [
    "for submission in reddit.subreddit(\"test\").hot(limit=5):\n",
    "    print(submission.title)\n"
   ]
  },
  {
   "cell_type": "markdown",
   "id": "d96e40a7",
   "metadata": {},
   "source": [
    "Of course we want to access hot subreddits like r/wallstreetbets or r/stocks"
   ]
  },
  {
   "cell_type": "code",
   "execution_count": 9,
   "id": "e2ba3e2c",
   "metadata": {},
   "outputs": [],
   "source": [
    "subreddit_stocks = reddit.subreddit(\"stocks\")"
   ]
  },
  {
   "cell_type": "code",
   "execution_count": 5,
   "id": "4978a90b",
   "metadata": {},
   "outputs": [
    {
     "name": "stdout",
     "output_type": "stream",
     "text": [
      "stocks\n",
      "Stocks - Investing and trading for all\n",
      "5977\n"
     ]
    }
   ],
   "source": [
    "print(subreddit_stocks.display_name)\n",
    "print(subreddit_stocks.title)\n",
    "print(subreddit_stocks.accounts_active)"
   ]
  },
  {
   "cell_type": "markdown",
   "id": "9ca002e6",
   "metadata": {},
   "source": [
    "Let's say we want to access the first 5 hot posts and three most upvoted comments:"
   ]
  },
  {
   "cell_type": "code",
   "execution_count": 10,
   "id": "8c56d721",
   "metadata": {},
   "outputs": [
    {
     "name": "stdout",
     "output_type": "stream",
     "text": [
      "Rate My Portfolio - r/Stocks Quarterly Thread June 2023\n",
      "ABBV- AbbVie Inc\n",
      "\n",
      "APD- Air Products & Chemicals, Inc.\n",
      "\n",
      "GOOGL- Alphabet Inc Class A\n",
      "\n",
      "AMZN - Amazon.com, Inc.\n",
      "\n",
      "AWK - American Water Works Company Inc\n",
      "\n",
      "ADSK - Autodesk Inc\n",
      "\n",
      "BRK.B - Berkshire Hathaway Inc Class B\n",
      "\n",
      "CHTR - Charter Communications Inc\n",
      "\n",
      "COST - Costco Wholesale Corporation\n",
      "\n",
      "CCI -Crown Castle Inc\n",
      "\n",
      "DG - Dollar General Corp\n",
      "\n",
      "HSY - Hershey Co\n",
      "\n",
      "INTC - Intel Corporation\n",
      "\n",
      "IP - International Paper Co\n",
      "\n",
      "LOW - Lowe's Companies Inc\n",
      "\n",
      "MA - Mastercard Inc\n",
      "\n",
      "MSFT - Microsoft Corp\n",
      "\n",
      "PGR - Progressive Corp\n",
      "\n",
      "PLD - Prologis Inc\n",
      "\n",
      "PSA - Public Storage\n",
      "\n",
      "VALE - Vale SA\n",
      "\n",
      "WBA - Walgreens Boots Alliance Inc\n",
      "\n",
      "WM - Waste Management, Inc.\n",
      "Let me know what you think about my portfolio. Trying to stay away from the sectors I don't know and increase diversity by investing VOO and QQQ ETFs  \n",
      "\n",
      "\n",
      "17.39% AAPL\n",
      "\n",
      "13.86% GOOGL\n",
      "\n",
      "26.31% VOO\n",
      "\n",
      "12.63% BAC\n",
      "\n",
      "04.99% TQQQ\n",
      "\n",
      "11.47% AMZN\n",
      "\n",
      "13.37% QQQM\n",
      "/r/Stocks Weekend Discussion Saturday - Aug 05, 2023\n",
      "Is anyone aware of any UK/European care home/nursing home companies that are available for investment?\n",
      "Brk.b earning predictions?\n",
      "\n",
      "\n",
      "They just got hurt yesterday by their large apple position\n",
      "\n",
      "Maybe buffet will surprise us and show that he sold a bunch of apple at the peak\n",
      "WSJ: Pfizer’s Covid Boost Crashes to Earth. \"Shares are down 31% YTD, a loss of more than $88 billion in market capitalization\"\n",
      "So what do you guys think. I have some shares and I don’t know if i should sell or hold 5 years\n",
      "Surprised Pikachu face\n",
      "Fed’s Bowman says more U.S. rate hikes likely will be needed\n",
      "Color me shocked\n",
      "There will be atleast one more rate hike of 25 basis points. Will there be one more? thats the question. \n",
      "\n",
      "Just because the Fed stops rate hikes doesn't mean its going to start cutting them. I think this time they might just hold them for a bit till inflation is where they want it to be.\n",
      "Nvidia upcoming Earnings\n",
      "Honestly I am genuinely wondering if they can post earnings to support the insane growth in their stock value\n",
      "Tsmc makes their chips. Tsmc gave flat guidance. Nvda gave boom guidance. Insert picture of lady with math symbols around her.\n",
      "\n",
      "Nvda is a good company with good tech but their valuation is unhinged right now.\n"
     ]
    }
   ],
   "source": [
    "for post in subreddit_stocks.hot(limit=5):\n",
    "    print(post.title)\n",
    "    submission = reddit.submission(post.id)\n",
    "    c = 0\n",
    "    # print top 2 comments per title comment (5 titles in all)\n",
    "    for comment in submission.comments:\n",
    "        comment = comment.body\n",
    "        if not comment == \"[deleted]\": # ignore deleted comment\n",
    "            print(comment)\n",
    "            c+=1\n",
    "        if c == 2:\n",
    "            break"
   ]
  },
  {
   "cell_type": "markdown",
   "id": "c31f370d",
   "metadata": {},
   "source": [
    "We can now use GPT to extract stock tickers from all of these posts and tell us whether the sentiment for the mentioned assets is positive, neutral or negative:"
   ]
  },
  {
   "cell_type": "markdown",
   "id": "e5480358",
   "metadata": {},
   "source": [
    "## OpenAI API\n",
    "\n",
    "Remember to use the notebook as shown, you must set your OpenAI API Key as an environment variable. Obviously, there are many ways you could provide your API Key to the Python code, input() or even hard-coded, but those are typically not recommended for safety reasons. Having it as an environment variable let's the key live on the computer, but not actually be present in the code.\n",
    "\n",
    "### Set-up Open AI API Key\n",
    "\n",
    "We'll only need to do this once per computer"
   ]
  },
  {
   "cell_type": "code",
   "execution_count": 12,
   "id": "b42ed8c5",
   "metadata": {},
   "outputs": [],
   "source": [
    "# Uncomment below and swap in your key to place your environment key using Python\n",
    "# Then you can delete the key string and the code cell below will still work!\n",
    "# os.environ[\"OPENAI_API_KEY\"] = \"Your key goes here!"
   ]
  },
  {
   "cell_type": "code",
   "execution_count": 13,
   "id": "149550f5",
   "metadata": {},
   "outputs": [],
   "source": [
    "openai.api_key = os.getenv(\"OPENAI_API_KEY\")"
   ]
  },
  {
   "cell_type": "markdown",
   "id": "27abbc84",
   "metadata": {},
   "source": [
    "## Prompt Generation\n",
    "First, we need to create a dictionary containing the title and top three comments"
   ]
  },
  {
   "cell_type": "code",
   "execution_count": 14,
   "id": "abc5a92d",
   "metadata": {},
   "outputs": [
    {
     "data": {
      "text/plain": [
       "<bound method BaseListingMixin.hot of Subreddit(display_name='stocks')>"
      ]
     },
     "execution_count": 14,
     "metadata": {},
     "output_type": "execute_result"
    }
   ],
   "source": [
    "getattr(subreddit_stocks, \"hot\")"
   ]
  },
  {
   "cell_type": "code",
   "execution_count": 15,
   "id": "9424948d",
   "metadata": {},
   "outputs": [],
   "source": [
    "def get_titles_and_comments(subreddit=\"stocks\", sub_instance=\"hot\", limit=10, num_comments=2, skip_first=2):\n",
    "    subreddit = reddit.subreddit(subreddit)\n",
    "    titles_and_comments = {}\n",
    "    for c, post in enumerate(getattr(subreddit, sub_instance)(limit=limit)):\n",
    "        # c is counter\n",
    "        if c < skip_first:\n",
    "            continue\n",
    "        \n",
    "        c+=(1-skip_first)\n",
    "        \n",
    "        titles_and_comments[c] = \"\"\n",
    "\n",
    "        submission = reddit.submission(post.id)\n",
    "        title = post.title\n",
    "        \n",
    "        titles_and_comments[c] += \"Title: \" + title  + \"\\n\\n\"\n",
    "        titles_and_comments[c] += \"Comments: \\n\\n\"\n",
    "        \n",
    "        comment_counter = 0\n",
    "        for comment in submission.comments:\n",
    "            comment = comment.body\n",
    "            if not comment == \"[deleted]\":\n",
    "                titles_and_comments[c] += comment + \"\\n\"\n",
    "                comment_counter+=1\n",
    "            if comment_counter == num_comments:\n",
    "                break\n",
    "\n",
    "    return titles_and_comments"
   ]
  },
  {
   "cell_type": "code",
   "execution_count": 16,
   "id": "bdba4923",
   "metadata": {},
   "outputs": [],
   "source": [
    "titles_and_comments = get_titles_and_comments(subreddit=\"stocks\", limit=12)"
   ]
  },
  {
   "cell_type": "code",
   "execution_count": 17,
   "id": "0aa5842d",
   "metadata": {},
   "outputs": [
    {
     "name": "stdout",
     "output_type": "stream",
     "text": [
      "Title: Fed’s Bowman says more U.S. rate hikes likely will be needed\n",
      "\n",
      "Comments: \n",
      "\n",
      "Color me shocked\n",
      "There will be atleast one more rate hike of 25 basis points. Will there be one more? thats the question. \n",
      "\n",
      "Just because the Fed stops rate hikes doesn't mean its going to start cutting them. I think this time they might just hold them for a bit till inflation is where they want it to be.\n",
      "\n"
     ]
    }
   ],
   "source": [
    "print(titles_and_comments[2])"
   ]
  },
  {
   "cell_type": "code",
   "execution_count": 18,
   "id": "dbf1395f",
   "metadata": {},
   "outputs": [],
   "source": [
    "def create_prompt(title_and_comments):\n",
    "\n",
    "    task = \"Return the stock ticker or company in the following heading and comments and classify the sentiment. If no ticker or company is mentioned write 'No company mentioned':\\n\\n\"\n",
    "    return task + title_and_comments\n"
   ]
  },
  {
   "cell_type": "code",
   "execution_count": 19,
   "id": "1c761a05",
   "metadata": {},
   "outputs": [],
   "source": [
    "prompt = create_prompt(titles_and_comments[1])"
   ]
  },
  {
   "cell_type": "code",
   "execution_count": 21,
   "id": "85fcd8b3",
   "metadata": {},
   "outputs": [
    {
     "name": "stdout",
     "output_type": "stream",
     "text": [
      "Return the stock ticker or company in the following heading and comments and classify the sentiment. If no ticker or company is mentioned write 'No company mentioned':\n",
      "\n",
      "Title: Musk found not liable in securities class action suit\n",
      "\n",
      "Comments: \n",
      "\n",
      "This investor has suffered so much harm. Stock up only 800% since that fraud tweet. \n",
      "\n",
      "So much irreparable damage.\n",
      "No dog in this fight outside of owning tesla shares indirectly from index funds, but what would stop a company, say Jones Soda (JSDA) from saying Saudi Arabia wants to take them private at a 30% premium. \n",
      "\n",
      "Does this jury verdict reset what the norm is for corporate finance- from an adjudicating stand point? Being able to tweet/email/DM that you're being purchased to increase market cap with no repercussions?\n",
      "\n"
     ]
    }
   ],
   "source": [
    "print(prompt)"
   ]
  },
  {
   "cell_type": "code",
   "execution_count": 26,
   "id": "84b80bdd",
   "metadata": {
    "scrolled": false
   },
   "outputs": [
    {
     "name": "stdout",
     "output_type": "stream",
     "text": [
      "Title: Musk found not liable in securities class action suit\n",
      "\n",
      "Comments: \n",
      "\n",
      "This investor has suffered so much harm. Stock up only 800% since that fraud tweet. \n",
      "\n",
      "So much irreparable damage.\n",
      "No dog in this fight outside of owning tesla shares indirectly from index funds, but what would stop a company, say Jones Soda (JSDA) from saying Saudi Arabia wants to take them private at a 30% premium. \n",
      "\n",
      "Does this jury verdict reset what the norm is for corporate finance- from an adjudicating stand point? Being able to tweet/email/DM that you're being purchased to increase market cap with no repercussions?\n",
      "\n",
      "Sentiment: \n",
      "No company mentioned\n",
      "------------------------------\n",
      "Title: December jobs blowout: +517k added (vs +187k expected); unemployment rate hits 3.4%\n",
      "\n",
      "Comments: \n",
      "\n",
      "Insane... Even in a high rates environment\n",
      "\n",
      "I wonder how the fed responds in medium term\n",
      "Holy balls lol\n",
      "\n",
      "Sentiment: \n",
      "No company mentioned\n",
      "------------------------------\n",
      "Title: Amazon, Meta, Alphabet, and Microsoft will incur $10B+ in charges related to job cuts, etc. Market caps up $800bn.\n",
      "\n",
      "Comments: \n",
      "\n",
      "Unreadable garbage post\n",
      "Thx for the copy paste. Anything to add?\n",
      "\n",
      "Sentiment: \n",
      "No company mentioned\n",
      "------------------------------\n",
      "Title: Argument about Amazon reinvesting everything\n",
      "\n",
      "Comments: \n",
      "\n",
      "At any point so far in its history, Amazon could have completely stopped reinvesting and simply watched the cash roll in with no further growth. In order to answer whether it's been wise to do it the way they've done it, just look at the numbers.\n",
      "\n",
      "2009: 24 billion revenue\n",
      "\n",
      "2016: 135 billion revenue\n",
      "\n",
      "2021: 470 billion revenue\n",
      "\n",
      "Assuming a flat 10% margin, choosing to reinvest and build their business results in 20 times the profit in 2021 vs 2009. And that is actually insanely conservative considering the real story is that they had no profit in 2009, and their margins in 2021 would be far better than 10% if they did not reinvest.\n",
      "\n",
      "They could stop growth in its tracks right now and produce 10's of billions in pure profit per year. How anyone could question their strategy thus far is ridiculous. They've knocked it out of the park, creating insane wealth and even brand new sectors in commerce. Historically, there are very few businesses ever who have been this successful, this smart with capital, and produced this degree of wealth for shareholders.\n",
      "All I know is that if they ever do stop reinvesting, I’m going to be collecting a fat dividend.\n",
      "\n",
      "Sentiment: \n",
      "Company: Amazon \n",
      "Sentiment: Positive\n",
      "------------------------------\n",
      "Title: The only time higher employment growth was reported before a recession was in 1973\n",
      "\n",
      "Comments: \n",
      "\n",
      "Was there a pandemic in 1971 and 1972?   No, so high employment growth in 1973 before a recession is not comparable.\n",
      "We wont know some of the effects of the increase of inflation and interest rates until Q2 2023. We are seeing euphoria at the moment because Fed predictably rose 25bps and some companies are doing better than expected. There is still an excess of money on the economy and supply is still trying to go back to normal from the Covid crash. Also past events don't correlate to future events.\n",
      "\n",
      "Sentiment: \n",
      "No company mentioned.\n",
      "------------------------------\n",
      "Title: So WHY doesn't Adani sue Hindenburg.. ?\n",
      "\n",
      "Comments: \n",
      "\n",
      "Who did Enron sue?\n",
      "For one, Hindenburg can ask for a lot of documents during the discovery process. Which means they can validate things they accuse Adani of doing with actual information from Adani.\n",
      "\n",
      "Sentiment: \n",
      "Company: Adani\n",
      "Sentiment: Neutral\n",
      "------------------------------\n",
      "Title: Is it time to go long on Nat Gas?\n",
      "\n",
      "Comments: \n",
      "\n",
      "Nat gas trades are generally called Widow marker trades for a reason. No one in Sep-Oct last year thought it will crash in such a spectacular way by only Dec-Jan in middle of the winter.\n",
      "If you want to go long, atleast it will better to use UNG than BOIL. BOIL being leveraged will decay a lot every passing day you hold. Natgas will spike someday, nobody is just exactly not sure, when.\n",
      "Lng futures are still dropping, which will show up in the next couple earnings reports.  Patience.\n",
      "\n",
      "Sentiment: \n",
      "Company: UNG (United States Natural Gas Fund)\n",
      "Sentiment: Positive\n",
      "------------------------------\n",
      "Title: Large funds and call options\n",
      "\n",
      "Comments: \n",
      "\n",
      "\n",
      "Sentiment: It looks like the market is bullish on this one.\n",
      "\n",
      "No company mentioned\n",
      "------------------------------\n",
      "Title: 5 Dividend Stocks with 7%+ Yield Wall Street Analysts Recommend\n",
      "\n",
      "Comments: \n",
      "\n",
      "EPD is a good stock, I've owned it in the past, but just providing some basic information that EPD is not an \"ordinary shares\" stock, it is a MLP (Master-Limited Partnership) and will require a K-1 form when filling taxes, which can be extra hassle when it comes tax time if that matters to anyone.\n",
      "Stellantis is a car manufacturer, the outcome of the merge between FCA and PSA\n",
      "\n",
      "Sentiment: \n",
      "No company mentioned\n",
      "------------------------------\n",
      "Title: Wall Street Week Ahead for the trading week beginning February 6th, 2023\n",
      "\n",
      "Comments: \n",
      "\n",
      "thank you\n",
      "Thanks\n",
      "\n",
      "Sentiment: \n",
      "No company mentioned\n",
      "------------------------------\n"
     ]
    }
   ],
   "source": [
    "for key, title_and_comments in titles_and_comments.items():\n",
    "    \n",
    "    prompt = create_prompt(title_and_comments)\n",
    "    \n",
    "    response = openai.Completion.create(engine=\"text-davinci-003\",\n",
    "                                                prompt=prompt,\n",
    "                                                max_tokens=256,\n",
    "                                                temperature=0,\n",
    "                                                top_p=1.0,\n",
    "                                                frequency_penalty=0.0,\n",
    "                                                presence_penalty=0.0)\n",
    "    print(title_and_comments)\n",
    "    print(\"Sentiment: \" + response[\"choices\"][0][\"text\"])\n",
    "    print(\"-\"*30)"
   ]
  }
 ],
 "metadata": {
  "kernelspec": {
   "display_name": "Python 3 (ipykernel)",
   "language": "python",
   "name": "python3"
  },
  "language_info": {
   "codemirror_mode": {
    "name": "ipython",
    "version": 3
   },
   "file_extension": ".py",
   "mimetype": "text/x-python",
   "name": "python",
   "nbconvert_exporter": "python",
   "pygments_lexer": "ipython3",
   "version": "3.11.3"
  }
 },
 "nbformat": 4,
 "nbformat_minor": 5
}
