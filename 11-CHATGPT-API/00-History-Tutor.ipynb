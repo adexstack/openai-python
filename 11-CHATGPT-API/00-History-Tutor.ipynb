{
 "cells": [
  {
   "cell_type": "markdown",
   "id": "01e5e9aa",
   "metadata": {},
   "source": [
    "<a href = \"https://www.pieriantraining.com\"><img src=\"../PT Centered Purple.png\"> </a>\n",
    "\n",
    "<em style=\"text-align:center\">Copyrighted by Pierian Training</em>"
   ]
  },
  {
   "cell_type": "markdown",
   "id": "4036a12b",
   "metadata": {},
   "source": [
    "# History ChatBot Tutor\n",
    "\n",
    "**WARNING: Remember that models are prone to hallucination! There is no gaurantee that the model is giving you accurate information. Alright, let's get on with building this tutor bot**"
   ]
  },
  {
   "cell_type": "code",
   "execution_count": 11,
   "id": "5780f319",
   "metadata": {},
   "outputs": [],
   "source": [
    "# !pip install tiktoken\n",
    "import openai\n",
    "import os\n",
    "import tiktoken"
   ]
  },
  {
   "cell_type": "code",
   "execution_count": 2,
   "id": "70fe1105",
   "metadata": {},
   "outputs": [],
   "source": [
    "# Uncomment below and swap in your key to place your environment key using Python\n",
    "# Then you can delete the key string and the code cell below will still work!\n",
    "os.environ[\"OPENAI_API_KEY\"] = \"Your api key goes here\"\n",
    "openai.api_key = os.getenv(\"OPENAI_API_KEY\")"
   ]
  },
  {
   "cell_type": "code",
   "execution_count": 3,
   "id": "a77e017d",
   "metadata": {},
   "outputs": [],
   "source": [
    "class CreateBot:\n",
    "    \n",
    "    def __init__(self, system_prompt):\n",
    "        '''\n",
    "        system_prompt: [str] Describes context for Chat Assistant\n",
    "        '''\n",
    "        self.system = system_prompt\n",
    "        self.messages = [{\"role\": \"system\", \"content\": system_prompt}]\n",
    "        \n",
    "    \n",
    "    def chat(self):\n",
    "        '''\n",
    "        Tracks dialogue history and takes in user input\n",
    "        '''\n",
    "        print('To end conversation, type END')\n",
    "        question = ''\n",
    "        while question != 'END':\n",
    "            # Get User Question\n",
    "            question = input(\"\")\n",
    "            \n",
    "            # Add to messages/dialogue history\n",
    "            self.messages.append({'role':'user','content':question})\n",
    "\n",
    "            #Send to ChatGPT and get response\n",
    "            response = openai.ChatCompletion.create(\n",
    "                  model=\"gpt-3.5-turbo\",\n",
    "                  messages=self.messages)\n",
    "\n",
    "            # Get content of assistant reply\n",
    "            content = response['choices'][0]['message']['content']\n",
    "            print('\\n')\n",
    "            print(content)\n",
    "            print('\\n')\n",
    "            # Add assistant reply for dialogue history\n",
    "            self.messages.append({'role':'assistant','content':content})"
   ]
  },
  {
   "cell_type": "code",
   "execution_count": 4,
   "id": "6c1a30a4",
   "metadata": {},
   "outputs": [],
   "source": [
    "history_tutor = CreateBot(system_prompt=\"You are an expert in US History\")"
   ]
  },
  {
   "cell_type": "code",
   "execution_count": 5,
   "id": "931ed58f",
   "metadata": {
    "scrolled": false
   },
   "outputs": [
    {
     "name": "stdout",
     "output_type": "stream",
     "text": [
      "To end conversation, type END\n",
      "What is UIPath\n",
      "\n",
      "\n",
      "UIPath is a software company that specializes in Robotic Process Automation (RPA) technology. RPA involves the use of software \"robots\" or bots to automate repetitive tasks and processes within computer systems. UIPath provides a platform that allows organizations to build, deploy, and manage these robots to streamline their workflows and improve efficiency. Founded in 2005, UIPath has become a leading provider of RPA software worldwide.\n",
      "\n",
      "\n",
      "What is the best way to learn UIPath Automation\n",
      "\n",
      "\n",
      "The best way to learn UIPath Automation is through a combination of hands-on practice, online tutorials and courses, and community support. Here are some steps you can follow:\n",
      "\n",
      "1. Start with the basics: Familiarize yourself with the UIPath platform by exploring its features and user interface. You can download the free community version of UIPath from their official website.\n",
      "\n",
      "2. Online tutorials and courses: UIPath provides comprehensive online tutorials, documentation, and video courses on their website. The \"Academy\" section offers guided learning paths for beginners, as well as advanced topics. These resources cover everything from installing UIPath, building workflows, and advanced automation techniques.\n",
      "\n",
      "3. Practice with real-life scenarios: It's important to apply your knowledge to practical situations. Look for real-world automation examples or create your own projects to practice building automation workflows.\n",
      "\n",
      "4. Join the community: UIPath has a large and active community of users. Join forums, discussion boards, and social media groups to connect with other UIPath enthusiasts. Networking with experienced users can provide valuable insights, tips, and solutions to challenges you may encounter.\n",
      "\n",
      "5. Attend UIPath events and webinars: UIPath conducts various events, webinars, and workshops that offer in-depth insights and training on automation. Participating in these events can help you stay updated on the latest trends and techniques in UIPath Automation.\n",
      "\n",
      "6. Certifications: Consider obtaining UIPath certifications to validate your expertise. UIPath offers a range of certifications for different skill levels, including the UIPath Certified Professional (UCP) and UIPath Certified Advanced Professional (UCAP) exams.\n",
      "\n",
      "Remember that learning UIPath Automation is a continuous process, and staying updated with the latest releases and developments is important. Dedicate time to practice regularly and keep exploring new concepts as they arise.\n",
      "\n",
      "\n",
      "What is the best rated course on Udemy for this\n",
      "\n",
      "\n",
      "As an AI language model, I do not have real-time information on the current highest-rated courses on Udemy for UIPath Automation. However, some highly recommended UIPath courses on Udemy with positive reviews and high ratings include:\n",
      "\n",
      "1. \"UIPath RPA Developer | Build 12 RPA Projects\" by Bryan Lamb: This course covers both the theory and hands-on practice of building 12 real-world projects using UIPath.\n",
      "\n",
      "2. \"UIPath RPA - Tech Primer\" by Garima Jharbade: A comprehensive course that covers UIPath from beginner to advanced topics, including recording, debugging, and deploying automation projects.\n",
      "\n",
      "3. \"UIPath Advanced Training\" by Ricardo Ruz Vargas: This course delves into advanced UIPath concepts, such as working with variables, control flow, and exception handling.\n",
      "\n",
      "Before enrolling in any course, it's advisable to read the course description, check student reviews, and compare the content to your own learning goals to ensure it aligns with your needs. Additionally, Udemy often offers regular discounts and promotions, so keep an eye out for those to save on course fees.\n",
      "\n",
      "\n",
      "Python enumerate use\n",
      "\n",
      "\n",
      "In Python, the `enumerate()` function is used to iterate over a sequence (such as a list, tuple, or string) while keeping track of the index of each item. It returns an iterator object that provides tuples containing both the index and the value of each element.\n",
      "\n",
      "Here is the basic syntax of the `enumerate()` function:\n",
      "\n",
      "```\n",
      "enumerate(sequence, start=0)\n",
      "```\n",
      "\n",
      "- `sequence`: The sequence that you want to iterate over.\n",
      "- `start`: (optional) The index to start enumeration. By default, it is set to 0.\n",
      "\n",
      "Here's an example of `enumerate()` in action:\n",
      "\n",
      "```python\n",
      "fruits = ['apple', 'banana', 'cherry']\n",
      "\n",
      "for index, fruit in enumerate(fruits):\n",
      "    print(index, fruit)\n",
      "```\n",
      "\n",
      "Output:\n",
      "```\n",
      "0 apple\n",
      "1 banana\n",
      "2 cherry\n",
      "```\n",
      "\n",
      "In this example, `enumerate()` is used to iterate over the `fruits` list. The `index` variable represents the index of each item, while `fruit` represents the value of each item. The `print()` statement displays both the index and the corresponding fruit.\n",
      "\n",
      "The `enumerate()` function is useful when you need to access both the index and the value of each element in a sequence during iteration. It eliminates the need for manually maintaining a separate index variable.\n",
      "\n",
      "\n",
      "for index, fruit in enumerate(fruits, start=1):     print(index, fruit)\n",
      "\n",
      "\n",
      "The code snippet you provided is a modified version of the previous example, where the `start` parameter is set to 1 instead of the default value of 0. This means that the index will start from 1 instead of 0.\n",
      "\n",
      "Here's how the modified code would look:\n",
      "\n",
      "```python\n",
      "fruits = ['apple', 'banana', 'cherry']\n",
      "\n",
      "for index, fruit in enumerate(fruits, start=1):\n",
      "    print(index, fruit)\n",
      "```\n",
      "\n",
      "Output:\n",
      "```\n",
      "1 apple\n",
      "2 banana\n",
      "3 cherry\n",
      "```\n",
      "\n",
      "In this updated version, the `start=1` parameter is passed to `enumerate()`. As a result, the indices start from 1 and increment by 1 for each subsequent element. The rest of the code remains the same, printing the index and fruit value for each iteration.\n",
      "\n",
      "\n",
      "END\n",
      "\n",
      "\n",
      "Thank you for using Assistant! If you have any more questions in the future, feel free to ask. Have a great day!\n",
      "\n",
      "\n"
     ]
    }
   ],
   "source": [
    "history_tutor.chat()"
   ]
  },
  {
   "cell_type": "markdown",
   "id": "7f85d2b9",
   "metadata": {},
   "source": [
    "### Token Length Check\n",
    "\n",
    "One last note, we currently didn't add a check for very long conversations, you could do a token count check, and if it went over you could start removing older messages, for example:"
   ]
  },
  {
   "cell_type": "code",
   "execution_count": 12,
   "id": "c80b1a59",
   "metadata": {},
   "outputs": [],
   "source": [
    "full_content = ''\n",
    "for item in history_tutor.messages:\n",
    "    full_content += item['content']"
   ]
  },
  {
   "cell_type": "code",
   "execution_count": 13,
   "id": "e35154da",
   "metadata": {},
   "outputs": [],
   "source": [
    "def num_tokens_from_string(string, encoding_name):\n",
    "    \"\"\"Returns the number of tokens in a text string.\"\"\"\n",
    "    encoding = tiktoken.get_encoding(encoding_name)\n",
    "    num_tokens = len(encoding.encode(string))\n",
    "    return num_tokens"
   ]
  },
  {
   "cell_type": "code",
   "execution_count": 14,
   "id": "a8208cc5",
   "metadata": {},
   "outputs": [
    {
     "data": {
      "text/plain": [
       "1189"
      ]
     },
     "execution_count": 14,
     "metadata": {},
     "output_type": "execute_result"
    }
   ],
   "source": [
    "num_tokens_from_string(full_content,encoding_name='cl100k_base')"
   ]
  },
  {
   "cell_type": "code",
   "execution_count": 15,
   "id": "cd120843",
   "metadata": {},
   "outputs": [
    {
     "data": {
      "text/plain": [
       "{'role': 'user', 'content': 'What is UIPath'}"
      ]
     },
     "execution_count": 15,
     "metadata": {},
     "output_type": "execute_result"
    }
   ],
   "source": [
    "# Don't pop index 0, because that is the system role!\n",
    "history_tutor.messages.pop(1)"
   ]
  },
  {
   "cell_type": "code",
   "execution_count": null,
   "id": "a2c875c6",
   "metadata": {},
   "outputs": [],
   "source": []
  }
 ],
 "metadata": {
  "kernelspec": {
   "display_name": "Python 3 (ipykernel)",
   "language": "python",
   "name": "python3"
  },
  "language_info": {
   "codemirror_mode": {
    "name": "ipython",
    "version": 3
   },
   "file_extension": ".py",
   "mimetype": "text/x-python",
   "name": "python",
   "nbconvert_exporter": "python",
   "pygments_lexer": "ipython3",
   "version": "3.11.3"
  }
 },
 "nbformat": 4,
 "nbformat_minor": 5
}
