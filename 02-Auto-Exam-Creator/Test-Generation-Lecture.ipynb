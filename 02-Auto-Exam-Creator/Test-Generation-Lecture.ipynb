{
 "cells": [
  {
   "cell_type": "markdown",
   "id": "1c03747c",
   "metadata": {},
   "source": [
    "<a href = \"https://www.pieriantraining.com\"><img src=\"../PT Centered Purple.png\"> </a>\n",
    "\n",
    "<em style=\"text-align:center\">Copyrighted by Pierian Training</em>"
   ]
  },
  {
   "cell_type": "markdown",
   "id": "895e4848",
   "metadata": {},
   "source": [
    "## Automatic Test Generation\n",
    "\n",
    "In this project, we will build an automatic test generation and grading platform!\n",
    "All we have to do is to provide a topic, the number of questions and the number of options for each question!\n",
    "Based on this information, a suitable test is generated, presented to the user and graded automatically!"
   ]
  },
  {
   "cell_type": "markdown",
   "id": "cf8a5e50",
   "metadata": {},
   "source": [
    "## Imports"
   ]
  },
  {
   "cell_type": "code",
   "execution_count": 8,
   "id": "8430a15c",
   "metadata": {},
   "outputs": [],
   "source": [
    "import os\n",
    "import openai\n"
   ]
  },
  {
   "cell_type": "markdown",
   "id": "d1311999",
   "metadata": {},
   "source": [
    "## OpenAI API\n",
    "\n",
    "Remember to use the notebook as shown, you must set your OpenAI API Key as an environment variable. Obviously, there are many ways you could provide your API Key to the Python code, input() or even hard-coded, but those are typically not recommended for safety reasons. Having it as an environment variable let's the key live on the computer, but not actually be present in the code.\n",
    "\n",
    "### Set-up Open AI API Key\n",
    "\n",
    "We'll only need to do this once per computer"
   ]
  },
  {
   "cell_type": "code",
   "execution_count": 14,
   "id": "20f34b3d",
   "metadata": {},
   "outputs": [],
   "source": [
    "# Uncomment below and swap in your key to place your environment key using Python\n",
    "# Then you can delete the key string and the code cell below will still work!\n",
    "# os.environ[\"OPENAI_API_KEY\"] = \"your key goes here\", comment out after invoking this line"
   ]
  },
  {
   "cell_type": "code",
   "execution_count": 15,
   "id": "e575ce6d",
   "metadata": {},
   "outputs": [],
   "source": [
    "openai.api_key = os.getenv(\"OPENAI_API_KEY\")"
   ]
  },
  {
   "cell_type": "markdown",
   "id": "c9333385",
   "metadata": {},
   "source": [
    "### Tell GPT how to generate the test\n",
    "\n",
    "We tell GPT to create a multiple choiz quiz. Hence we define the topic, the number of possible answers as well as the number of questions.\n",
    "To enable automatical grading later, GPT needs to incorporate the correct answer!\n"
   ]
  },
  {
   "cell_type": "code",
   "execution_count": 16,
   "id": "50f35344",
   "metadata": {},
   "outputs": [],
   "source": [
    "def create_test_prompt(topic, num_questions, num_possible_answers):\n",
    "    prompt = f\"Create a multiple choice quiz on the topic of {topic} consisting of {num_questions} questions. \" \\\n",
    "                 + f\"Each question should have {num_possible_answers} options. \"\\\n",
    "                 + f\"Also include the correct answer for each question using the starting string 'Correct Answer: '.\"\n",
    "    return prompt"
   ]
  },
  {
   "cell_type": "code",
   "execution_count": 17,
   "id": "86db2bc3",
   "metadata": {},
   "outputs": [
    {
     "data": {
      "text/plain": [
       "\"Create a multiple choice quiz on the topic of Python consisting of 4 questions. Each question should have 4 options. Also include the correct answer for each question using the starting string 'Correct Answer: '.\""
      ]
     },
     "execution_count": 17,
     "metadata": {},
     "output_type": "execute_result"
    }
   ],
   "source": [
    "create_test_prompt(\"Python\", 4, 4)"
   ]
  },
  {
   "cell_type": "markdown",
   "id": "0fc3ec9f",
   "metadata": {},
   "source": [
    "### OpenAI API Call\n",
    "Let's use text-davinci-003 for normal text generation"
   ]
  },
  {
   "cell_type": "code",
   "execution_count": 18,
   "id": "930d61b4",
   "metadata": {},
   "outputs": [],
   "source": [
    "response = openai.Completion.create(engine=\"text-davinci-003\",\n",
    "                                            prompt=create_test_prompt(\"Python\", 4, 4),\n",
    "                                            max_tokens=256,\n",
    "                                            temperature=0.7)"
   ]
  },
  {
   "cell_type": "code",
   "execution_count": 19,
   "id": "7da58566",
   "metadata": {},
   "outputs": [
    {
     "data": {
      "text/plain": [
       "<OpenAIObject text_completion id=cmpl-7jC1WSAnKRQMni6ztq9lKKlxvTELl at 0x11511dd90> JSON: {\n",
       "  \"warning\": \"This model version is deprecated. Migrate before January 4, 2024 to avoid disruption of service. Learn more https://platform.openai.com/docs/deprecations\",\n",
       "  \"id\": \"cmpl-7jC1WSAnKRQMni6ztq9lKKlxvTELl\",\n",
       "  \"object\": \"text_completion\",\n",
       "  \"created\": 1691005334,\n",
       "  \"model\": \"text-davinci-003\",\n",
       "  \"choices\": [\n",
       "    {\n",
       "      \"text\": \"\\n\\nQuestion 1: What is the main programming language used for the Raspberry Pi?\\nA) Java \\nB) Python \\nC) HTML \\nD) C++ \\nCorrect Answer: B) Python\\n\\nQuestion 2: What is the correct syntax for a for loop in Python?\\nA) for (i=0; i<x; i++)\\nB) for i in range(x):\\nC) for (i=0; i>x; i++)\\nD) for i in x:\\nCorrect Answer: B) for i in range(x):\\n\\nQuestion 3: What is the output of the following code in Python?\\nmy_list = [1, 2, 3]\\nmy_list.append(4)\\n\\nA) [1, 2, 3, 4]\\nB) [4, 2, 3, 1]\\nC) 4\\nD) None\\nCorrect Answer: A) [1, 2, 3, 4]\\n\\nQuestion 4: What is the proper syntax for declaring a function in Python?\\nA) function funcName()\\nB) def funcName()\\nC) funcName()\\nD) funcName = ()\\nCorrect Answer:\",\n",
       "      \"index\": 0,\n",
       "      \"logprobs\": null,\n",
       "      \"finish_reason\": \"length\"\n",
       "    }\n",
       "  ],\n",
       "  \"usage\": {\n",
       "    \"prompt_tokens\": 39,\n",
       "    \"completion_tokens\": 256,\n",
       "    \"total_tokens\": 295\n",
       "  }\n",
       "}"
      ]
     },
     "execution_count": 19,
     "metadata": {},
     "output_type": "execute_result"
    }
   ],
   "source": [
    "response"
   ]
  },
  {
   "cell_type": "code",
   "execution_count": 20,
   "id": "38688eb8",
   "metadata": {},
   "outputs": [
    {
     "data": {
      "text/plain": [
       "'\\n\\nQuestion 1: What is the main programming language used for the Raspberry Pi?\\nA) Java \\nB) Python \\nC) HTML \\nD) C++ \\nCorrect Answer: B) Python\\n\\nQuestion 2: What is the correct syntax for a for loop in Python?\\nA) for (i=0; i<x; i++)\\nB) for i in range(x):\\nC) for (i=0; i>x; i++)\\nD) for i in x:\\nCorrect Answer: B) for i in range(x):\\n\\nQuestion 3: What is the output of the following code in Python?\\nmy_list = [1, 2, 3]\\nmy_list.append(4)\\n\\nA) [1, 2, 3, 4]\\nB) [4, 2, 3, 1]\\nC) 4\\nD) None\\nCorrect Answer: A) [1, 2, 3, 4]\\n\\nQuestion 4: What is the proper syntax for declaring a function in Python?\\nA) function funcName()\\nB) def funcName()\\nC) funcName()\\nD) funcName = ()\\nCorrect Answer:'"
      ]
     },
     "execution_count": 20,
     "metadata": {},
     "output_type": "execute_result"
    }
   ],
   "source": [
    "response[\"choices\"][0][\"text\"]"
   ]
  },
  {
   "cell_type": "markdown",
   "id": "a428a8e5",
   "metadata": {},
   "source": [
    "### Q/A Extraction\n",
    "\n",
    "We now need to extract the questions and answers to present them to the students later"
   ]
  },
  {
   "cell_type": "code",
   "execution_count": 21,
   "id": "31e6ad53",
   "metadata": {},
   "outputs": [],
   "source": [
    "def create_student_view(test, num_questions):\n",
    "    student_view = {1 : \"\"}\n",
    "    question_number = 1\n",
    "    for line in test.split(\"\\n\"):\n",
    "        if not line.startswith(\"Correct Answer:\"):\n",
    "            student_view[question_number] += line+\"\\n\"\n",
    "        else:\n",
    "\n",
    "            if question_number < num_questions:\n",
    "                question_number+=1\n",
    "                student_view[question_number] = \"\"\n",
    "    return student_view\n",
    " "
   ]
  },
  {
   "cell_type": "code",
   "execution_count": 22,
   "id": "6e92ffd5",
   "metadata": {},
   "outputs": [
    {
     "data": {
      "text/plain": [
       "{1: '\\n\\nQuestion 1: What is the main programming language used for the Raspberry Pi?\\nA) Java \\nB) Python \\nC) HTML \\nD) C++ \\n',\n",
       " 2: '\\nQuestion 2: What is the correct syntax for a for loop in Python?\\nA) for (i=0; i<x; i++)\\nB) for i in range(x):\\nC) for (i=0; i>x; i++)\\nD) for i in x:\\n',\n",
       " 3: '\\nQuestion 3: What is the output of the following code in Python?\\nmy_list = [1, 2, 3]\\nmy_list.append(4)\\n\\nA) [1, 2, 3, 4]\\nB) [4, 2, 3, 1]\\nC) 4\\nD) None\\n',\n",
       " 4: '\\nQuestion 4: What is the proper syntax for declaring a function in Python?\\nA) function funcName()\\nB) def funcName()\\nC) funcName()\\nD) funcName = ()\\n'}"
      ]
     },
     "execution_count": 22,
     "metadata": {},
     "output_type": "execute_result"
    }
   ],
   "source": [
    "create_student_view(response[\"choices\"][0][\"text\"], 4)"
   ]
  },
  {
   "cell_type": "code",
   "execution_count": 23,
   "id": "86f196d0",
   "metadata": {},
   "outputs": [],
   "source": [
    "def extract_answers(test, num_questions):\n",
    "    answers = {1 : \"\"}\n",
    "    question_number = 1\n",
    "    for line in test.split(\"\\n\"):\n",
    "        if line.startswith(\"Correct Answer:\"):\n",
    "            answers[question_number] += line+\"\\n\"\n",
    "\n",
    "            if question_number < num_questions:\n",
    "                question_number+=1\n",
    "                answers[question_number] = \"\"\n",
    "    return answers\n",
    "\n"
   ]
  },
  {
   "cell_type": "code",
   "execution_count": 24,
   "id": "e49a648e",
   "metadata": {},
   "outputs": [
    {
     "data": {
      "text/plain": [
       "{1: 'Correct Answer: B) Python\\n',\n",
       " 2: 'Correct Answer: B) for i in range(x):\\n',\n",
       " 3: 'Correct Answer: A) [1, 2, 3, 4]\\n',\n",
       " 4: 'Correct Answer:\\n'}"
      ]
     },
     "execution_count": 24,
     "metadata": {},
     "output_type": "execute_result"
    }
   ],
   "source": [
    "extract_answers(response[\"choices\"][0][\"text\"], 4)"
   ]
  },
  {
   "cell_type": "markdown",
   "id": "13127b2e",
   "metadata": {},
   "source": [
    "### Exam simulation\n",
    "Based on the extracted questions, we can now simulate the exam"
   ]
  },
  {
   "cell_type": "code",
   "execution_count": 25,
   "id": "a8336521",
   "metadata": {},
   "outputs": [],
   "source": [
    "def take(student_view):\n",
    "    answers = {}\n",
    "    for question, question_view in student_view.items():\n",
    "        print(question_view)\n",
    "        answer = input(\"Enter your answer: \")\n",
    "        answers[question] = answer\n",
    "    return answers\n"
   ]
  },
  {
   "cell_type": "code",
   "execution_count": 26,
   "id": "f8f0a9dc",
   "metadata": {},
   "outputs": [
    {
     "name": "stdout",
     "output_type": "stream",
     "text": [
      "\n",
      "\n",
      "Question 1: What is the main programming language used for the Raspberry Pi?\n",
      "A) Java \n",
      "B) Python \n",
      "C) HTML \n",
      "D) C++ \n",
      "\n",
      "Enter your answer: d\n",
      "\n",
      "Question 2: What is the correct syntax for a for loop in Python?\n",
      "A) for (i=0; i<x; i++)\n",
      "B) for i in range(x):\n",
      "C) for (i=0; i>x; i++)\n",
      "D) for i in x:\n",
      "\n",
      "Enter your answer: d\n",
      "\n",
      "Question 3: What is the output of the following code in Python?\n",
      "my_list = [1, 2, 3]\n",
      "my_list.append(4)\n",
      "\n",
      "A) [1, 2, 3, 4]\n",
      "B) [4, 2, 3, 1]\n",
      "C) 4\n",
      "D) None\n",
      "\n",
      "Enter your answer: a\n",
      "\n",
      "Question 4: What is the proper syntax for declaring a function in Python?\n",
      "A) function funcName()\n",
      "B) def funcName()\n",
      "C) funcName()\n",
      "D) funcName = ()\n",
      "\n",
      "Enter your answer: b\n"
     ]
    }
   ],
   "source": [
    "student_answers = take(create_student_view(response[\"choices\"][0][\"text\"], 4))"
   ]
  },
  {
   "cell_type": "markdown",
   "id": "2426f423",
   "metadata": {},
   "source": [
    "### Automatic Grading\n",
    "Based on the student's answers and correct answers, we can now grade the test!"
   ]
  },
  {
   "cell_type": "code",
   "execution_count": 30,
   "id": "689597b8",
   "metadata": {},
   "outputs": [],
   "source": [
    "def grade(correct_answer_dict, answers):\n",
    "    correct_answers = 0\n",
    "    for question, answer in answers.items():\n",
    "        if answer.upper() == correct_answer_dict[question].upper()[16]:\n",
    "            correct_answers+=1\n",
    "    grade = 100 * correct_answers / len(answers)\n",
    "\n",
    "    if grade < 60:\n",
    "        passed = \"Not passed!\"\n",
    "    else:\n",
    "        passed = \"Passed!\"\n",
    "    return f\"{correct_answers} out of {len(answers)} correct! You achieved: {grade} % : {passed}\"\n"
   ]
  },
  {
   "cell_type": "code",
   "execution_count": 31,
   "id": "91bba050",
   "metadata": {},
   "outputs": [
    {
     "ename": "IndexError",
     "evalue": "string index out of range",
     "output_type": "error",
     "traceback": [
      "\u001b[0;31m---------------------------------------------------------------------------\u001b[0m",
      "\u001b[0;31mIndexError\u001b[0m                                Traceback (most recent call last)",
      "Cell \u001b[0;32mIn[31], line 1\u001b[0m\n\u001b[0;32m----> 1\u001b[0m grade(extract_answers(response[\u001b[38;5;124m\"\u001b[39m\u001b[38;5;124mchoices\u001b[39m\u001b[38;5;124m\"\u001b[39m][\u001b[38;5;241m0\u001b[39m][\u001b[38;5;124m\"\u001b[39m\u001b[38;5;124mtext\u001b[39m\u001b[38;5;124m\"\u001b[39m], \u001b[38;5;241m4\u001b[39m), student_answers)\n",
      "Cell \u001b[0;32mIn[30], line 4\u001b[0m, in \u001b[0;36mgrade\u001b[0;34m(correct_answer_dict, answers)\u001b[0m\n\u001b[1;32m      2\u001b[0m correct_answers \u001b[38;5;241m=\u001b[39m \u001b[38;5;241m0\u001b[39m\n\u001b[1;32m      3\u001b[0m \u001b[38;5;28;01mfor\u001b[39;00m question, answer \u001b[38;5;129;01min\u001b[39;00m answers\u001b[38;5;241m.\u001b[39mitems():\n\u001b[0;32m----> 4\u001b[0m     \u001b[38;5;28;01mif\u001b[39;00m answer\u001b[38;5;241m.\u001b[39mupper() \u001b[38;5;241m==\u001b[39m correct_answer_dict[question]\u001b[38;5;241m.\u001b[39mupper()[\u001b[38;5;241m16\u001b[39m]:\n\u001b[1;32m      5\u001b[0m         correct_answers\u001b[38;5;241m+\u001b[39m\u001b[38;5;241m=\u001b[39m\u001b[38;5;241m1\u001b[39m\n\u001b[1;32m      6\u001b[0m grade \u001b[38;5;241m=\u001b[39m \u001b[38;5;241m100\u001b[39m \u001b[38;5;241m*\u001b[39m correct_answers \u001b[38;5;241m/\u001b[39m \u001b[38;5;28mlen\u001b[39m(answers)\n",
      "\u001b[0;31mIndexError\u001b[0m: string index out of range"
     ]
    }
   ],
   "source": [
    "grade(extract_answers(response[\"choices\"][0][\"text\"], 4), student_answers)"
   ]
  },
  {
   "cell_type": "code",
   "execution_count": null,
   "id": "efd9575b",
   "metadata": {},
   "outputs": [],
   "source": []
  },
  {
   "cell_type": "code",
   "execution_count": null,
   "id": "f6ea7f4c",
   "metadata": {},
   "outputs": [],
   "source": []
  },
  {
   "cell_type": "code",
   "execution_count": null,
   "id": "91ac23c9",
   "metadata": {},
   "outputs": [],
   "source": []
  }
 ],
 "metadata": {
  "kernelspec": {
   "display_name": "Python 3 (ipykernel)",
   "language": "python",
   "name": "python3"
  },
  "language_info": {
   "codemirror_mode": {
    "name": "ipython",
    "version": 3
   },
   "file_extension": ".py",
   "mimetype": "text/x-python",
   "name": "python",
   "nbconvert_exporter": "python",
   "pygments_lexer": "ipython3",
   "version": "3.11.3"
  }
 },
 "nbformat": 4,
 "nbformat_minor": 5
}
